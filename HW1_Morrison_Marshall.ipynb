{
  "nbformat": 4,
  "nbformat_minor": 0,
  "metadata": {
    "colab": {
      "name": "HW1-Morrison-Marshall.ipynb",
      "provenance": [],
      "collapsed_sections": []
    },
    "kernelspec": {
      "name": "python3",
      "display_name": "Python 3"
    }
  },
  "cells": [
    {
      "cell_type": "markdown",
      "metadata": {
        "id": "hm8RAKinXsIP"
      },
      "source": [
        "## **Homework 1**\n",
        "\n",
        "### Create a copy of the notebook to start answering the questions. Name your notebook in the format HW1_lastname_firstname.ipynb to facilitate the grading process. \n",
        "\n",
        "### Answer all the questions, test your code to ensure there are no errors and the results are as expected. Once you have answered all the questions, save the final copy, then go to File-> click on Download.ipynb. Once the local copy has been downloaded, submit your file on Blackboard under the corresponding assignment section. Also provide us a link to your notebook during submission. \n",
        "\n",
        "### **The due date of this homework is 02/05/2021 (Friday).**\n",
        "\n",
        "### Please ensure you follow all the steps mentioned in the homework.\n",
        "\n",
        "### All the questions have a sample input and output to help you understand the question. Please note that your programs will be tested for other sets of inputs and outputs along with the sample provided. So test your code for other inputs.\n",
        "\n",
        "### You can submit your solutions any number of times until the deadline.\n"
      ]
    },
    {
      "cell_type": "markdown",
      "metadata": {
        "id": "uacFrEaZfcfq"
      },
      "source": [
        "##### Q1. Write a program that prompts the user to enter a password then prints the length of the password.\n",
        "\n",
        "```\n",
        "Enter your password: hello\n",
        "Your password is 5 long.\n",
        "```\n",
        "\n",
        "\n"
      ]
    },
    {
      "cell_type": "code",
      "metadata": {
        "id": "avPyES14ftCt"
      },
      "source": [
        "password = input(\"Enter your password: \")\n",
        "password_length = len(password)\n",
        "print(\"Your password is\", password_length, \"long.\")"
      ],
      "execution_count": null,
      "outputs": []
    },
    {
      "cell_type": "markdown",
      "metadata": {
        "id": "ekh-kABuItli"
      },
      "source": [
        ""
      ]
    },
    {
      "cell_type": "markdown",
      "metadata": {
        "id": "K1yko-xUItU3"
      },
      "source": [
        ""
      ]
    },
    {
      "cell_type": "markdown",
      "metadata": {
        "id": "behD0j_Of2TW"
      },
      "source": [
        "##### Q2. Write a program that prompts the user to enter their full name then prints the number of characters in their name (do not count spaces).\n",
        "\n",
        "```\n",
        "What is your name? Amulya Katti\n",
        "Amulya Katti your name has 11 characters.\n",
        "```"
      ]
    },
    {
      "cell_type": "code",
      "metadata": {
        "id": "XSdIRjwlhSlu"
      },
      "source": [
        "name = input(\"What is your name? \")\n",
        "num_spaces = name.count(\" \")\n",
        "total_length = len(name)\n",
        "num_characters = total_length - num_spaces\n",
        "print(name, \"your name has\", num_characters, \"characters.\")"
      ],
      "execution_count": null,
      "outputs": []
    },
    {
      "cell_type": "markdown",
      "metadata": {
        "id": "5KHOWF6FhVHV"
      },
      "source": [
        "##### Q3. Write a program that prompts the user to enter a month (as a number), then prints the name of the month and the number of days in that month. Ensure that the user inputs a valid month and handle any error cases.\n",
        "\n",
        "```\n",
        "Enter the month number: 9\n",
        "September has 30 days\n",
        "```"
      ]
    },
    {
      "cell_type": "code",
      "metadata": {
        "id": "KhS-SAEThyTG"
      },
      "source": [
        "month_num = input(\"Enter the month number: \")\n",
        "while True:\n",
        "  if month_num.isdigit():\n",
        "    month_num = int(month_num)\n",
        "    if month_num in range(1,13):\n",
        "      if month_num == 1:\n",
        "        print(\"January has 31 days\")\n",
        "        break\n",
        "      elif month_num == 2:\n",
        "        print(\"February has 28 days\")\n",
        "        break\n",
        "      elif month_num == 3:\n",
        "        print(\"March has 31 days\")\n",
        "        break\n",
        "      elif month_num == 4:\n",
        "        print(\"April has 30 days\")\n",
        "        break\n",
        "      elif month_num == 5:\n",
        "        print(\"May has 31 days\")\n",
        "        break\n",
        "      elif month_num == 6:\n",
        "        print(\"June has 30 days\")\n",
        "        break\n",
        "      elif month_num == 7:\n",
        "        print(\"July has 31 days\")\n",
        "        break\n",
        "      elif month_num == 8:\n",
        "        print(\"August has 31 days\")\n",
        "        break\n",
        "      elif month_num == 9:\n",
        "        print(\"September has 30 days\")\n",
        "        break\n",
        "      elif month_num == 10:\n",
        "        print(\"October has 31 days\")\n",
        "        break\n",
        "      elif month_num == 11:\n",
        "        print(\"November has 30 days\")\n",
        "        break\n",
        "      elif month_num == 12:\n",
        "        print(\"December has 31 days\")\n",
        "        break\n",
        "    else:\n",
        "      print(\"Invalid\\nYou must enter a number 1-12\")\n",
        "      month_num = input(\"Enter the month number: \")\n",
        "  else:\n",
        "    print(\"Invalid\\nYou must enter a number 1-12\")\n",
        "    month_num = input(\"Enter the month number: \")\n",
        "\n"
      ],
      "execution_count": null,
      "outputs": []
    },
    {
      "cell_type": "markdown",
      "metadata": {
        "id": "O7lnAdGlh6Xa"
      },
      "source": [
        "##### Q4. Write a program that prompts the user to enter a loan amount, annual interest rate, and number of years  for a car loan. Then calculate and print the monthly payment amount.\n",
        "\n",
        "Note:\n",
        "```\n",
        "PMT= [PV*i*((1+i)^n)]/[((1+i)^n)-1]\n",
        "```\n",
        "PMT is the monthly payment\n",
        "\n",
        "PV is the loan amount\n",
        "\n",
        "i is the interest rate per month in decimal form (interest rate percentage divided by 12)\n",
        "\n",
        "n is the number of months (term of the loan in months)\n",
        "\n",
        "```\n",
        "Loan Amount: 30000.00\n",
        "Annual Interest Rate: 4.00\n",
        "Years: 5\n",
        "Your monthly payment is: $552.50\n",
        "```"
      ]
    },
    {
      "cell_type": "code",
      "metadata": {
        "id": "p4B5JH5GiTs9"
      },
      "source": [
        "loan_amount = input(\"Loan Amount: \")\n",
        "while True:\n",
        "  if loan_amount.isdigit():\n",
        "    loan_amount = float(loan_amount)\n",
        "    break\n",
        "  else:\n",
        "    print(\"You must enter a valid number\")\n",
        "    loan_amount = input(\"Loan Amount: \")\n",
        "annual_ir = input(\"Annual Interest Rate: \")\n",
        "while True:\n",
        "  if annual_ir.isdigit():\n",
        "    annual_ir = float(annual_ir)\n",
        "    break\n",
        "  else:\n",
        "    print(\"You must enter a valid number\")\n",
        "    annual_ir = input(\"Annual Interst Rate: \")\n",
        "years = input(\"Years: \")\n",
        "while True:\n",
        "  if years.isdigit():\n",
        "    years = int(years)\n",
        "    break\n",
        "  else:\n",
        "    print(\"You must enter a valid number\")\n",
        "    years = input(\"Years: \")\n",
        "print(\"Loan Amount:\", loan_amount)\n",
        "print(\"Annual Interest Rate:\", annual_ir)\n",
        "print(\"Years:\", years)\n",
        "i = (annual_ir/100) / 12\n",
        "PV = loan_amount\n",
        "n = float(years*12)\n",
        "# PMT = [PV*i*((1+i)^n)]/[((1+i)^n)-1]\n",
        "PMT = ((PV * i) * ((1 + i) ** n)) / (((1 + i) ** n) - 1)\n",
        "PMT = '{:.2f}'.format(PMT)\n",
        "print(\"Your monthly payment is: $\" + str(PMT))\n"
      ],
      "execution_count": null,
      "outputs": []
    },
    {
      "cell_type": "markdown",
      "metadata": {
        "id": "SjiolJKgiWV-"
      },
      "source": [
        "##### Q5. Write a program to that prompts the user to enter a string. Then check whether or not the string is a palindrome.\n",
        "\n",
        "```\n",
        "Enter a string: Madam\n",
        "Madam, is a palindrome!\n",
        "```"
      ]
    },
    {
      "cell_type": "code",
      "metadata": {
        "id": "F5_M934Ri0es"
      },
      "source": [
        "string_input = input(\"Enter a string: \")\n",
        "string_input2 = string_input.replace(\" \", \"\")\n",
        "string_input2 = string_input2.lower()\n",
        "print(string_input2)\n",
        "reversed = string_input [::-1]\n",
        "reversed2 = reversed.replace(\" \", \"\")\n",
        "reversed2 = reversed2.lower()\n",
        "print(reversed2)\n",
        "if string_input2 == reversed2:\n",
        " print(string_input + \", is a palindrome!\")\n",
        "else:\n",
        " print(string_input + \", is not a palindrome\")"
      ],
      "execution_count": null,
      "outputs": []
    },
    {
      "cell_type": "markdown",
      "metadata": {
        "id": "BLBD6n9vkJEu"
      },
      "source": [
        "##### Q6. Write a program to compute and print all possible combinations of change for \\$1. Denominations to be considered – quarter, dime, nickel, penny.\n",
        "\n",
        "Hint: Use nested loops (loops within loops for the various denominations of coins)\n",
        "\n",
        "```\n",
        "Change for $1:\n",
        "0 quarters, 0 dimes, 0 nickels, 100 pennies\n",
        "…\n",
        "4 quarters, 0 dimes, 0 nickels, 0 pennies\n",
        "```"
      ]
    },
    {
      "cell_type": "code",
      "metadata": {
        "id": "kAQsTjwDkZZ5"
      },
      "source": [
        "print(\"Change for $1: \")\n",
        "\n",
        "for q in range(0, 5):\n",
        "  for d in range(0, 11): \n",
        "    for n in range(0, 21):\n",
        "      for p in range(0, 101):\n",
        "\n",
        "        if ((25 * q) + (10 * d) + (5 * n) + p == 100):\n",
        "          print(str(q) + \" quarters, \" + str(d) + \" dimes, \" + str(n) + \" nickels, \" + str(p) + \" pennies.\" )\n"
      ],
      "execution_count": null,
      "outputs": []
    },
    {
      "cell_type": "markdown",
      "metadata": {
        "id": "rUPDjYiIkbgs"
      },
      "source": [
        "##### Q7. Ask the user to enter two positive integers between 1 and 100. Read those integers. Then output a multiplication table of the first number times the second number. \n",
        "\n",
        "Note: You have to ensure the entered numbers are between 1 and 100 only.\n",
        "\n",
        "```\n",
        "Please enter an integer: 5\n",
        "Please enter another integer: 20\n",
        "5 x 1 = 5\n",
        "5 x 2 = 10\n",
        "5 x 3 = 15\n",
        "…\n",
        "5 x 20 = 100\n",
        "```"
      ]
    },
    {
      "cell_type": "code",
      "metadata": {
        "id": "Qg0Orv1klHzA"
      },
      "source": [
        "first = input(\"Please enter an integer: \")\n",
        "while True:\n",
        "  if first.isdigit():\n",
        "    first = int(first)\n",
        "    if first in range (1, 101):\n",
        "       break\n",
        "    else:\n",
        "        print(\"It must be a number 1-100\")\n",
        "        first = input(\"Please enter an integer: \")\n",
        "  else: \n",
        "    print(\"It must be a number 1-100\")\n",
        "    first = input(\"Please enter an integer: \")\n",
        "second = input(\"Please enter another integer: \")   \n",
        "while True:\n",
        "  if second.isdigit():\n",
        "    second = int(second)\n",
        "    if second in range (1, 101):\n",
        "       break\n",
        "    else:\n",
        "        print(\"It must be a number 1-100\")\n",
        "        second = input(\"Please enter another integer: \")\n",
        "  else: \n",
        "    print(\"It must be a number 1-100\")\n",
        "    second = input(\"Please enter another integer: \")\n",
        "\n",
        "while True:\n",
        "  for x in range(1, second + 1):\n",
        "    answer = first * x\n",
        "    print(first, \"x\", x, \"=\", answer)\n",
        "  else:\n",
        "    break\n"
      ],
      "execution_count": null,
      "outputs": []
    },
    {
      "cell_type": "markdown",
      "metadata": {
        "id": "SbnbPUPTlLD9"
      },
      "source": [
        "##### Q8. Write a program to ask the user to enter a password. Then check to see if it is a valid password based on these requirements -\n",
        "\n",
        "Must be at least 8 characters long\n",
        "\n",
        "Must contain both uppercase and lowercase letters\n",
        "\n",
        "Must contain at least one number between 0-9\n",
        "\n",
        "Must contain a special character -!,@,#,$\n",
        "\n",
        "If the password is not valid, ask the user to re-enter. This should continue until the user enters a valid password. After a valid password is entered, print Access Granted!\n",
        "\n",
        "```\n",
        "Please enter a password. Follow these requirements - \n",
        "a. Must be at least 8 characters long\n",
        "b. Must contain both uppercase and lowercase letters\n",
        "c. Must contain at least one number between 0-9\n",
        "d. Must contain a special character -!,@,#,$\n",
        "Password: HelloWorld1\n",
        "Invalid password. Try again!\n",
        "Password: Hello@World1\n",
        "Access Granted!\n",
        "```\n"
      ]
    },
    {
      "cell_type": "code",
      "metadata": {
        "id": "OXmZ177Rl-RV",
        "colab": {
          "base_uri": "https://localhost:8080/"
        },
        "outputId": "0236ed77-b4b7-4ba4-c0e3-3614294cf29d"
      },
      "source": [
        "print(\"Please enter a password. Follow these requirements - \")\n",
        "print(\"a. Must be at least 8 characters long\")\n",
        "print(\"b. Must contain both uppercase and lowercase letters\")\n",
        "print(\"c. Must contain at least one number between 0-9\")\n",
        "print(\"d. Must contain a special character -!,@,#,$\")\n",
        "password = input(\"Password: \")\n",
        "while True:\n",
        "  if len(password) > 7:\n",
        "    if password.upper() != password and password.lower() != password:\n",
        "      numbercheck = any(chr.isdigit() for chr in password)\n",
        "      if numbercheck == True:\n",
        "        specialcheck = any(chr in [\"!\", \"@\", \"#\", \"$\"] for chr in password)\n",
        "        if specialcheck == True:\n",
        "          break\n",
        "        else:\n",
        "          print(\"Invalid password. Try again!\")\n",
        "          password = input(\"Password:\")\n",
        "      else:\n",
        "        print(\"Invalid password. Try again!\")\n",
        "        password = input(\"Password:\")\n",
        "    else:\n",
        "      print(\"Invalid password. Try again!\")\n",
        "      password = input(\"Password:\")\n",
        "  else: \n",
        "    print(\"Invalid password. Try again!\")\n",
        "    password = input(\"Password:\")\n",
        "\n",
        "print(\"Access Granted!\")\n"
      ],
      "execution_count": null,
      "outputs": [
        {
          "output_type": "stream",
          "text": [
            "Please enter a password. Follow these requirements - \n",
            "a. Must be at least 8 characters long\n",
            "b. Must contain both uppercase and lowercase letters\n",
            "c. Must contain at least one number between 0-9\n",
            "d. Must contain a special character -!,@,#,$\n",
            "Password: marshallM28\n",
            "Invalid password. Try again!\n",
            "Password:marshallM28$\n",
            "Access Granted!\n"
          ],
          "name": "stdout"
        }
      ]
    },
    {
      "cell_type": "markdown",
      "metadata": {
        "id": "-0sdutTDnTKA"
      },
      "source": [
        "##### Q9. Given the score sheet of participants in a competition, you are required to find the runner-up score. You are given scores in a list. Find the score of the runner-up.\n",
        "\n",
        "```\n",
        "list1 - [2, 3, 6, 6, 5]\n",
        "runner_up - 5\n",
        "\n",
        "list2 - [1, 7, 5, 3, 10, 4, 5, 5, 6, 11]\n",
        "runner_up - 10\n",
        "```"
      ]
    },
    {
      "cell_type": "code",
      "metadata": {
        "id": "12YP9OaqpGRK"
      },
      "source": [
        "first = input(\"Please enter a number: \")\n",
        "while True:\n",
        "  if first.isdigit():\n",
        "    first = int(first)\n",
        "    break\n",
        "  else:\n",
        "    first = input(\"Please enter an integer: \")\n",
        "second = input(\"Please enter a number: \")\n",
        "while True:\n",
        "  if second.isdigit():\n",
        "    second = int(second)\n",
        "    break\n",
        "  else:\n",
        "    second = input(\"Please enter an integer: \")\n",
        "third = input(\"Please enter a number: \")\n",
        "while True:\n",
        "  if third.isdigit():\n",
        "    third = int(third)\n",
        "    break\n",
        "  else:\n",
        "    third = input(\"Please enter an integer: \")\n",
        "fourth = input(\"Please enter a number: \")\n",
        "while True:\n",
        "  if fourth.isdigit():\n",
        "    fourth = int(fourth)\n",
        "    break\n",
        "  else:\n",
        "    fourth = input(\"Please enter an integer: \")\n",
        "fifth = input(\"Please enter a number: \")\n",
        "while True:\n",
        "  if fifth.isdigit():\n",
        "    fifth = int(fifth)\n",
        "    break\n",
        "  else:\n",
        "    fifth = input(\"Please enter an integer: \")\n",
        "sixth = input(\"Please enter a number: \")\n",
        "while True:\n",
        "  if sixth.isdigit():\n",
        "    sixth = int(sixth)\n",
        "    break\n",
        "  else:\n",
        "    sixth = input(\"Please enter an integer: \")\n",
        "\n",
        "\n",
        "list = [first, second, third, fourth, fifth, sixth]\n",
        "print(\"Final Scores: \" + str(list))\n",
        "list.sort()\n",
        "print(\"Runner Up: \" + str(list[-2]))\n",
        "\n",
        "\n",
        "\n"
      ],
      "execution_count": null,
      "outputs": []
    }
  ]
}